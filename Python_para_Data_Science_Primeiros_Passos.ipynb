{
  "nbformat": 4,
  "nbformat_minor": 0,
  "metadata": {
    "colab": {
      "provenance": [],
      "authorship_tag": "ABX9TyP4qghPsB2gncHKk9qayU7m",
      "include_colab_link": true
    },
    "kernelspec": {
      "name": "python3",
      "display_name": "Python 3"
    },
    "language_info": {
      "name": "python"
    }
  },
  "cells": [
    {
      "cell_type": "markdown",
      "metadata": {
        "id": "view-in-github",
        "colab_type": "text"
      },
      "source": [
        "<a href=\"https://colab.research.google.com/github/victorsoaresferreiraa/Python-/blob/main/Python_para_Data_Science_Primeiros_Passos.ipynb\" target=\"_parent\"><img src=\"https://colab.research.google.com/assets/colab-badge.svg\" alt=\"Open In Colab\"/></a>"
      ]
    },
    {
      "cell_type": "code",
      "execution_count": 2,
      "metadata": {
        "colab": {
          "base_uri": "https://localhost:8080/"
        },
        "id": "EpBWm4b8MZ-2",
        "outputId": "71ecd491-492a-4d4a-c794-40ff5629d6ee"
      },
      "outputs": [
        {
          "output_type": "stream",
          "name": "stdout",
          "text": [
            "Escola de Dados da Alura!\n"
          ]
        }
      ],
      "source": [
        "print(\"Escola de Dados da Alura!\")\n"
      ]
    },
    {
      "cell_type": "code",
      "source": [
        "#Imprimir seu nome e sobrenome\n",
        "\n",
        "print(\"Nome: Victor\")\n",
        "print(\"Sobrenome: Soares\")"
      ],
      "metadata": {
        "colab": {
          "base_uri": "https://localhost:8080/"
        },
        "id": "QH9iZMjEMpcN",
        "outputId": "f08f8294-5df6-4728-c52f-003a2f36861f"
      },
      "execution_count": 3,
      "outputs": [
        {
          "output_type": "stream",
          "name": "stdout",
          "text": [
            "Nome: Victor\n",
            "Sobrenome: Soares\n"
          ]
        }
      ]
    },
    {
      "cell_type": "code",
      "source": [
        "#Imprimir o seu nome letra a letra\n",
        "\n",
        "print(\"V\")\n",
        "print(\"i\")\n",
        "print(\"C\")"
      ],
      "metadata": {
        "colab": {
          "base_uri": "https://localhost:8080/"
        },
        "id": "S9sXExKiM-Dd",
        "outputId": "fea1185d-88fc-4c18-9f66-f5dfdbf1f237"
      },
      "execution_count": 4,
      "outputs": [
        {
          "output_type": "stream",
          "name": "stdout",
          "text": [
            "V\n",
            "i\n",
            "C\n"
          ]
        }
      ]
    },
    {
      "cell_type": "code",
      "source": [
        "#Imprimir o dia do seu nascimento em formato dia mes e ano\n",
        "\n",
        "print(13, \"Julho\", 2000)"
      ],
      "metadata": {
        "colab": {
          "base_uri": "https://localhost:8080/"
        },
        "id": "OcWV5Ao_NW8W",
        "outputId": "d36f113a-6278-4327-945b-7caf9e15c13e"
      },
      "execution_count": 6,
      "outputs": [
        {
          "output_type": "stream",
          "name": "stdout",
          "text": [
            "13 Julho 2000\n"
          ]
        }
      ]
    },
    {
      "cell_type": "code",
      "source": [
        "#imprimir em unico print o atual ano que voce esta fazendo o curso\n",
        "print('Ano Atual:', 2023)"
      ],
      "metadata": {
        "colab": {
          "base_uri": "https://localhost:8080/"
        },
        "id": "Lbp_1Xl4Nmuu",
        "outputId": "d2c294bb-5ea2-42e0-9fc0-e6cd24bcd9a6"
      },
      "execution_count": 7,
      "outputs": [
        {
          "output_type": "stream",
          "name": "stdout",
          "text": [
            "Ano Atual: 2023\n"
          ]
        }
      ]
    },
    {
      "cell_type": "code",
      "source": [
        "#Crie um programa que solicite a pessoa usuaria digitar seu nome\n",
        "nome = input(\"Qual o seu nome?\")\n",
        "print(f'Ola,{nome}')"
      ],
      "metadata": {
        "colab": {
          "base_uri": "https://localhost:8080/"
        },
        "id": "DHWZdcHPOIl_",
        "outputId": "8fb5926c-3ea2-44c0-94eb-efb762fc63be"
      },
      "execution_count": 8,
      "outputs": [
        {
          "output_type": "stream",
          "name": "stdout",
          "text": [
            "Qual o seu nome?Victor\n",
            "Ola,Victor\n"
          ]
        }
      ]
    },
    {
      "cell_type": "code",
      "source": [
        "#Crie um programa que solicite a pessoa usuaria digitar seu nome e idade\n",
        "nome = input(\"Qual o seu nome?\")\n",
        "idade = input(\"Qual a sua idade?\")\n",
        "print(f'Ola, {nome}, voce tem {idade} anos')"
      ],
      "metadata": {
        "colab": {
          "base_uri": "https://localhost:8080/"
        },
        "id": "fvGYBmwxOcaG",
        "outputId": "ea1a21fa-c68f-40b2-d240-cbfc082d1c87"
      },
      "execution_count": 11,
      "outputs": [
        {
          "output_type": "stream",
          "name": "stdout",
          "text": [
            "Qual o seu nome?victor\n",
            "Qual a sua idade?23\n",
            "Ola, victor, voce tem 23 anos\n"
          ]
        }
      ]
    },
    {
      "cell_type": "code",
      "source": [
        "#Crie um programa que solicite a pessoa digitar seu nome, idade e altura\n",
        "nome = input(\"Qual o seu nome?\")\n",
        "idade = input(\"Qual a sua idade?\")\n",
        "altura = input(\"Qual a sua altura\")\n",
        "print(f'Ola,{nome}, voce tem {idade} anos e mede {altura} metros')"
      ],
      "metadata": {
        "colab": {
          "base_uri": "https://localhost:8080/"
        },
        "id": "xCRQd0ZHOhVf",
        "outputId": "2f0c102b-594b-4850-c07e-658413ab498d"
      },
      "execution_count": 13,
      "outputs": [
        {
          "output_type": "stream",
          "name": "stdout",
          "text": [
            "Qual o seu nome?victor\n",
            "Qual a sua idade?23\n",
            "Qual a sua altura1,80\n",
            "Ola,victor, voce tem 23 anos e mede 1,80 metros\n"
          ]
        }
      ]
    },
    {
      "cell_type": "code",
      "source": [
        "#Crie um programa que solicite dois valores e some\n",
        "num1 = int(input(\"Digite um numero\"))\n",
        "num2 = int(input(\"Digite outro numero\"))\n",
        "soma = num1 + num2\n",
        "print(f'O total é {soma}')"
      ],
      "metadata": {
        "colab": {
          "base_uri": "https://localhost:8080/"
        },
        "id": "7ptGCDUaPPn4",
        "outputId": "f45e3ce5-c2f3-4451-c6e8-81942e019900"
      },
      "execution_count": 14,
      "outputs": [
        {
          "output_type": "stream",
          "name": "stdout",
          "text": [
            "Digite um numero23\n",
            "Digite outro numero23\n",
            "O total é 46\n"
          ]
        }
      ]
    },
    {
      "cell_type": "code",
      "source": [
        "#Solicita 3 numeros\n",
        "num1 = int(input(\"Digite um numero\"))\n",
        "num2 = int(input(\"Digite outro valor\"))\n",
        "num3 = int(input(\"Digite outro numero\"))\n",
        "soma = num1 + num2 + num3\n",
        "print(f'o total é {soma}')"
      ],
      "metadata": {
        "colab": {
          "base_uri": "https://localhost:8080/"
        },
        "id": "eKvE227OP2Ju",
        "outputId": "8ebbdbc1-856f-4657-fa1b-595f0cfe5d52"
      },
      "execution_count": 15,
      "outputs": [
        {
          "output_type": "stream",
          "name": "stdout",
          "text": [
            "Digite um numero10\n",
            "Digite outro valor35\n",
            "Digite outro numero95\n",
            "o total é 140\n"
          ]
        }
      ]
    },
    {
      "cell_type": "code",
      "source": [
        "#dois numero e subtrai\n",
        "num1 = int(input(\"Digite um numero\"))\n",
        "num2 = int(input(\"Digite um segundo valor\"))\n",
        "sub = num1 - num2\n",
        "print(f'a subtração é {sub}')\n"
      ],
      "metadata": {
        "colab": {
          "base_uri": "https://localhost:8080/"
        },
        "id": "Vdes4RvWQJe_",
        "outputId": "296dc0b1-178c-46b8-d903-a515093191e6"
      },
      "execution_count": 18,
      "outputs": [
        {
          "output_type": "stream",
          "name": "stdout",
          "text": [
            "Digite um numero89\n",
            "Digite um segundo valor23\n",
            "a subtração é 66\n"
          ]
        }
      ]
    },
    {
      "cell_type": "code",
      "source": [
        "#Multipli os valores\n",
        "num1 = int(input(\"Digite um numero\"))\n",
        "num2 = int(input(\"Digite um segundo valor\"))\n",
        "sub = num1 * num2\n",
        "print(f'a multiplicação é {sub}')"
      ],
      "metadata": {
        "colab": {
          "base_uri": "https://localhost:8080/"
        },
        "id": "w2Jg-qRHQoLD",
        "outputId": "9cfd9632-49b3-4668-cb1f-2d9743f5b11c"
      },
      "execution_count": 19,
      "outputs": [
        {
          "output_type": "stream",
          "name": "stdout",
          "text": [
            "Digite um numero56\n",
            "Digite um segundo valor412\n",
            "a multiplicação é 23072\n"
          ]
        }
      ]
    },
    {
      "cell_type": "code",
      "source": [
        "#Divisao\n",
        "num1 = int(input(\"Digite o numerador \"))\n",
        "num2 = int(input(\"Digite o denominador \"))\n",
        "sub = num1 / num2\n",
        "print(f'a divisao é {sub}')"
      ],
      "metadata": {
        "colab": {
          "base_uri": "https://localhost:8080/"
        },
        "id": "gaqwDqn-RMCt",
        "outputId": "32f0ba92-d632-43c6-a183-26795e137c9a"
      },
      "execution_count": 20,
      "outputs": [
        {
          "output_type": "stream",
          "name": "stdout",
          "text": [
            "Digite o numerador 50\n",
            "Digite o denominador 5\n",
            "a multiplicação é 10.0\n"
          ]
        }
      ]
    },
    {
      "cell_type": "code",
      "source": [
        "#Potencia\n",
        "num1 = int(input(\"Digite o numerador \"))\n",
        "num2 = int(input(\"Digite o denominador \"))\n",
        "sub = num1 ** num2\n",
        "print(f'a potencia é {sub}')"
      ],
      "metadata": {
        "colab": {
          "base_uri": "https://localhost:8080/"
        },
        "id": "UV2sVweuRcZY",
        "outputId": "2c26ba0a-6b16-459e-98ff-3eefc915412c"
      },
      "execution_count": 21,
      "outputs": [
        {
          "output_type": "stream",
          "name": "stdout",
          "text": [
            "Digite o numerador 10\n",
            "Digite o denominador 23\n",
            "a potencia é 100000000000000000000000\n"
          ]
        }
      ]
    },
    {
      "cell_type": "code",
      "source": [
        "#Dvisisao inteira\n",
        "num1 = int(input(\"Digite o numerador \"))\n",
        "num2 = int(input(\"Digite o denominador \"))\n",
        "sub = num1 // num2\n",
        "print(f'a Divisao inteira é {sub}')"
      ],
      "metadata": {
        "colab": {
          "base_uri": "https://localhost:8080/"
        },
        "id": "bHvCF8CTRpvR",
        "outputId": "134050d9-c764-463a-95f8-6b1ccda864b9"
      },
      "execution_count": 22,
      "outputs": [
        {
          "output_type": "stream",
          "name": "stdout",
          "text": [
            "Digite o numerador 23\n",
            "Digite o denominador 14\n",
            "a potencia é 1\n"
          ]
        }
      ]
    },
    {
      "cell_type": "code",
      "source": [
        "#Resto da Divisao\n",
        "num1 = int(input(\"Digite o numerador \"))\n",
        "num2 = int(input(\"Digite o denominador \"))\n",
        "sub = num1 % num2\n",
        "print(f'o resto da divisao é {sub}')"
      ],
      "metadata": {
        "colab": {
          "base_uri": "https://localhost:8080/"
        },
        "id": "3WU7vERISCSg",
        "outputId": "07c204fe-afaa-4ec3-82f0-24f0d6287e49"
      },
      "execution_count": 23,
      "outputs": [
        {
          "output_type": "stream",
          "name": "stdout",
          "text": [
            "Digite o numerador 10\n",
            "Digite o denominador 23\n",
            "a Divisao inteira é 10\n"
          ]
        }
      ]
    },
    {
      "cell_type": "code",
      "source": [
        "#Media\n",
        "num1 = int(input(\"Digite um numero \"))\n",
        "num2 = int(input(\"Digite outro numero \"))\n",
        "num3 = int(input(\"Digite outro numero \"))\n",
        "media = (num1 + num2 + num3)/3\n",
        "print(f'A media é  {sub}')"
      ],
      "metadata": {
        "colab": {
          "base_uri": "https://localhost:8080/"
        },
        "id": "j47NMza8SWcm",
        "outputId": "27ba8a20-3c43-49d4-c40c-908c6c64d743"
      },
      "execution_count": 24,
      "outputs": [
        {
          "output_type": "stream",
          "name": "stdout",
          "text": [
            "Digite um numero 10\n",
            "Digite outro numero 8\n",
            "Digite outro numero 9\n",
            "A media é  10\n"
          ]
        }
      ]
    },
    {
      "cell_type": "code",
      "source": [
        "#Media ponderada\n",
        "media_ponderada = (5*1 + 12*2 + 20*3 + 15*4) / (1+2+3+4)\n",
        "print(f'Média {media_ponderada}.')"
      ],
      "metadata": {
        "colab": {
          "base_uri": "https://localhost:8080/"
        },
        "id": "bOs5WeHyS0GE",
        "outputId": "efb5f8ca-0e73-48e7-d4d1-90ad26c3f1c1"
      },
      "execution_count": 25,
      "outputs": [
        {
          "output_type": "stream",
          "name": "stdout",
          "text": [
            "Média 14.9.\n"
          ]
        }
      ]
    },
    {
      "cell_type": "code",
      "source": [
        "#Editando texto\n",
        "frase = 'Olá Python!'\n",
        "print(frase)"
      ],
      "metadata": {
        "colab": {
          "base_uri": "https://localhost:8080/"
        },
        "id": "ZJbR4vqlS1ta",
        "outputId": "d09fb827-6786-42e8-8c38-d1ffcdcd5856"
      },
      "execution_count": 26,
      "outputs": [
        {
          "output_type": "stream",
          "name": "stdout",
          "text": [
            "Olá Python!\n"
          ]
        }
      ]
    },
    {
      "cell_type": "code",
      "source": [
        "frase = input('Digite uma frase: ')\n",
        "print(frase)"
      ],
      "metadata": {
        "colab": {
          "base_uri": "https://localhost:8080/"
        },
        "id": "8Jqs9RreS66k",
        "outputId": "b49fb16d-da6e-4f80-949d-da0f1ada0307"
      },
      "execution_count": 27,
      "outputs": [
        {
          "output_type": "stream",
          "name": "stdout",
          "text": [
            "Digite uma frase: victor\n",
            "victor\n"
          ]
        }
      ]
    },
    {
      "cell_type": "code",
      "source": [
        "frase = input('Digite uma frase: ')\n",
        "print(frase.upper())"
      ],
      "metadata": {
        "colab": {
          "base_uri": "https://localhost:8080/"
        },
        "id": "MKYhJH-9TLgT",
        "outputId": "76cf11cb-d0a6-401b-f343-11f218ee2faa"
      },
      "execution_count": 28,
      "outputs": [
        {
          "output_type": "stream",
          "name": "stdout",
          "text": [
            "Digite uma frase: victor\n",
            "VICTOR\n"
          ]
        }
      ]
    },
    {
      "cell_type": "code",
      "source": [
        "frase = input('Digite uma frase: ')\n",
        "print(frase.lower())"
      ],
      "metadata": {
        "colab": {
          "base_uri": "https://localhost:8080/"
        },
        "id": "SQYYof6ZTPql",
        "outputId": "2ef7d44b-eedb-430f-b161-0b96464cfdd8"
      },
      "execution_count": 29,
      "outputs": [
        {
          "output_type": "stream",
          "name": "stdout",
          "text": [
            "Digite uma frase: victor\n",
            "victor\n"
          ]
        }
      ]
    },
    {
      "cell_type": "code",
      "source": [
        "frase = ' Olá Python!  '\n",
        "print(frase.strip())"
      ],
      "metadata": {
        "colab": {
          "base_uri": "https://localhost:8080/"
        },
        "id": "5oU7j3arTQ2F",
        "outputId": "76987576-b515-4fa3-94a1-6b9d18003030"
      },
      "execution_count": 30,
      "outputs": [
        {
          "output_type": "stream",
          "name": "stdout",
          "text": [
            "Olá Python!\n"
          ]
        }
      ]
    },
    {
      "cell_type": "code",
      "source": [
        "frase = input('Digite uma frase: ')\n",
        "print(frase.strip())"
      ],
      "metadata": {
        "colab": {
          "base_uri": "https://localhost:8080/"
        },
        "id": "SKwzVm6VTRus",
        "outputId": "e7ee6621-a342-41b7-f7c2-8c91c7891ae8"
      },
      "execution_count": 33,
      "outputs": [
        {
          "output_type": "stream",
          "name": "stdout",
          "text": [
            "Digite uma frase: victorsoares\n",
            "victorsoares\n"
          ]
        }
      ]
    },
    {
      "cell_type": "code",
      "source": [
        "frase = input('Digite uma frase: ')\n",
        "print(frase.strip().lower())"
      ],
      "metadata": {
        "colab": {
          "base_uri": "https://localhost:8080/"
        },
        "id": "CV2c0UsKTTff",
        "outputId": "f2e81600-cf01-4505-9f71-66de7cde357c"
      },
      "execution_count": 34,
      "outputs": [
        {
          "output_type": "stream",
          "name": "stdout",
          "text": [
            "Digite uma frase: victor soares\n",
            "victor soares\n"
          ]
        }
      ]
    },
    {
      "cell_type": "code",
      "source": [
        "frase = input('Digite uma frase: ')\n",
        "print(frase.lower().replace('e','f'))"
      ],
      "metadata": {
        "colab": {
          "base_uri": "https://localhost:8080/"
        },
        "id": "kQd1jTK9TU5x",
        "outputId": "22b61c97-d0d9-474f-c5dd-82e4c8301a35"
      },
      "execution_count": 36,
      "outputs": [
        {
          "output_type": "stream",
          "name": "stdout",
          "text": [
            "Digite uma frase: victor soares ferreira\n",
            "victor soarfs ffrrfira\n"
          ]
        }
      ]
    },
    {
      "cell_type": "code",
      "source": [
        "frase = input('Digite uma frase: ')\n",
        "print(frase.lower().replace('a',chr(64)))"
      ],
      "metadata": {
        "colab": {
          "base_uri": "https://localhost:8080/"
        },
        "id": "L5ofN6S9TWNO",
        "outputId": "181f6911-bd44-40f7-97a7-1ebb9a73b4a0"
      },
      "execution_count": 37,
      "outputs": [
        {
          "output_type": "stream",
          "name": "stdout",
          "text": [
            "Digite uma frase: victor soares ferreira\n",
            "victor so@res ferreir@\n"
          ]
        }
      ]
    },
    {
      "cell_type": "code",
      "source": [
        "frase = input('Digite uma frase: ')\n",
        "print(frase.lower().replace('s',chr(36)))"
      ],
      "metadata": {
        "colab": {
          "base_uri": "https://localhost:8080/"
        },
        "id": "xxqyFlYFTXXV",
        "outputId": "5d9f4bb1-2252-45e5-e682-9e02f0774a24"
      },
      "execution_count": 38,
      "outputs": [
        {
          "output_type": "stream",
          "name": "stdout",
          "text": [
            "Digite uma frase: VICTOR SOARES FERREIRA\n",
            "victor $oare$ ferreira\n"
          ]
        }
      ]
    }
  ]
}